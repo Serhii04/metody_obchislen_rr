{
 "cells": [
  {
   "cell_type": "code",
   "execution_count": 16,
   "metadata": {},
   "outputs": [],
   "source": [
    "import numpy as np"
   ]
  },
  {
   "cell_type": "code",
   "execution_count": 21,
   "metadata": {},
   "outputs": [],
   "source": [
    "import polute_process as pp"
   ]
  },
  {
   "cell_type": "code",
   "execution_count": 22,
   "metadata": {},
   "outputs": [
    {
     "ename": "AttributeError",
     "evalue": "module 'polute_process' has no attribute 'predict'",
     "output_type": "error",
     "traceback": [
      "\u001b[0;31m---------------------------------------------------------------------------\u001b[0m",
      "\u001b[0;31mAttributeError\u001b[0m                            Traceback (most recent call last)",
      "\u001b[1;32m/home/serhii/Documents/Куроки/Числові моделі та алгоритми/rr/metody_obchislen_rr/src/proc_set.ipynb Cell 3\u001b[0m in \u001b[0;36m1\n\u001b[0;32m----> <a href='vscode-notebook-cell:/home/serhii/Documents/%D0%9A%D1%83%D1%80%D0%BE%D0%BA%D0%B8/%D0%A7%D0%B8%D1%81%D0%BB%D0%BE%D0%B2%D1%96%20%D0%BC%D0%BE%D0%B4%D0%B5%D0%BB%D1%96%20%D1%82%D0%B0%20%D0%B0%D0%BB%D0%B3%D0%BE%D1%80%D0%B8%D1%82%D0%BC%D0%B8/rr/metody_obchislen_rr/src/proc_set.ipynb#W4sZmlsZQ%3D%3D?line=0'>1</a>\u001b[0m pp\u001b[39m.\u001b[39;49mpredict(\u001b[39mlen\u001b[39m\u001b[39m=\u001b[39m\u001b[39m80\u001b[39m)\n",
      "\u001b[0;31mAttributeError\u001b[0m: module 'polute_process' has no attribute 'predict'"
     ]
    }
   ],
   "source": [
    "pp.predict(len=80)"
   ]
  }
 ],
 "metadata": {
  "kernelspec": {
   "display_name": "Python 3",
   "language": "python",
   "name": "python3"
  },
  "language_info": {
   "codemirror_mode": {
    "name": "ipython",
    "version": 3
   },
   "file_extension": ".py",
   "mimetype": "text/x-python",
   "name": "python",
   "nbconvert_exporter": "python",
   "pygments_lexer": "ipython3",
   "version": "3.10.6"
  },
  "orig_nbformat": 4
 },
 "nbformat": 4,
 "nbformat_minor": 2
}
